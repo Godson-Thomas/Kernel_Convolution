{
 "cells": [
  {
   "cell_type": "code",
   "execution_count": 1,
   "metadata": {},
   "outputs": [
    {
     "name": "stdout",
     "output_type": "stream",
     "text": [
      "(230, 298, 3)\n",
      "\n",
      "\n",
      "[[[236 248 242]\n",
      "  [238 250 244]\n",
      "  [239 253 249]\n",
      "  ...\n",
      "  [240 251 243]\n",
      "  [250 249 251]\n",
      "  [254 247 254]]\n",
      "\n",
      " [[246 255 252]\n",
      "  [244 255 252]\n",
      "  [244 255 254]\n",
      "  ...\n",
      "  [227 245 232]\n",
      "  [247 254 251]\n",
      "  [252 251 253]]\n",
      "\n",
      " [[235 249 245]\n",
      "  [231 245 241]\n",
      "  [224 239 235]\n",
      "  ...\n",
      "  [107 143 119]\n",
      "  [238 255 246]\n",
      "  [243 255 249]]\n",
      "\n",
      " ...\n",
      "\n",
      " [[255 255 255]\n",
      "  [239 237 237]\n",
      "  [ 42  42  42]\n",
      "  ...\n",
      "  [132 132 132]\n",
      "  [255 255 255]\n",
      "  [255 255 255]]\n",
      "\n",
      " [[235 233 233]\n",
      "  [255 255 255]\n",
      "  [251 251 251]\n",
      "  ...\n",
      "  [255 255 255]\n",
      "  [255 255 255]\n",
      "  [255 255 255]]\n",
      "\n",
      " [[251 249 249]\n",
      "  [253 251 251]\n",
      "  [255 255 255]\n",
      "  ...\n",
      "  [231 231 231]\n",
      "  [255 255 255]\n",
      "  [255 255 255]]]\n"
     ]
    }
   ],
   "source": [
    "import cv2\n",
    "import numpy as np\n",
    " \n",
    "img = cv2.imread(\"E:\\\\GITHUB\\\\Convolution\\\\Gaussian_Filter\\\\canvas_4.jpeg\")\n",
    "print(img.shape)\n",
    "print('\\n')\n",
    "print(img)\n"
   ]
  },
  {
   "cell_type": "code",
   "execution_count": 2,
   "metadata": {},
   "outputs": [
    {
     "name": "stdout",
     "output_type": "stream",
     "text": [
      "[[245 247 250 ... 247 250 250]\n",
      " [253 253 253 ... 239 252 252]\n",
      " [246 242 236 ... 132 250 252]\n",
      " ...\n",
      " [255 237  42 ... 132 255 255]\n",
      " [233 255 251 ... 255 255 255]\n",
      " [249 251 255 ... 231 255 255]]\n"
     ]
    }
   ],
   "source": [
    "img_gray_scale = cv2.cvtColor(img, cv2.COLOR_BGR2GRAY)\n",
    "print(img_gray_scale)"
   ]
  },
  {
   "cell_type": "code",
   "execution_count": 3,
   "metadata": {},
   "outputs": [],
   "source": [
    "img = cv2.resize(img, (350,298))\n",
    "img_gray_scale = cv2.resize(img_gray_scale, (350,298))\n",
    "\n",
    "\n",
    "blur = cv2.blur(img,(5,5))"
   ]
  },
  {
   "cell_type": "code",
   "execution_count": 4,
   "metadata": {},
   "outputs": [],
   "source": [
    "cv2.imshow(\"Original Image\",img)\n",
    "cv2.imshow(\"GrayScale Image\",img_gray_scale)\n",
    "cv2.imshow(\"Output Image\",dst)\n",
    "\n",
    "cv2.waitKey(0)\n",
    "cv2.destroyAllWindows()"
   ]
  },
  {
   "cell_type": "code",
   "execution_count": null,
   "metadata": {},
   "outputs": [],
   "source": []
  }
 ],
 "metadata": {
  "kernelspec": {
   "display_name": "DARKTRACE",
   "language": "python",
   "name": "darktrace"
  },
  "language_info": {
   "codemirror_mode": {
    "name": "ipython",
    "version": 3
   },
   "file_extension": ".py",
   "mimetype": "text/x-python",
   "name": "python",
   "nbconvert_exporter": "python",
   "pygments_lexer": "ipython3",
   "version": "3.7.3"
  }
 },
 "nbformat": 4,
 "nbformat_minor": 2
}
